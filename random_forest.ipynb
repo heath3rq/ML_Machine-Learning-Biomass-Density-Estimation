{
 "cells": [
  {
   "cell_type": "code",
   "execution_count": 1,
   "metadata": {},
   "outputs": [],
   "source": [
    "import pandas as pd\n",
    "import numpy as np\n",
    "from sklearn.metrics import mean_squared_error as mse\n",
    "from sklearn.ensemble import RandomForestRegressor\n",
    "from sklearn.model_selection import RandomizedSearchCV\n",
    "from sklearn.model_selection import PredefinedSplit\n",
    "import matplotlib.pyplot as plt"
   ]
  },
  {
   "cell_type": "code",
   "execution_count": 2,
   "metadata": {},
   "outputs": [],
   "source": [
    "# x_train = pd.read_csv('Xtrain.csv').drop(columns=['Unnamed: 0']).to_numpy()\n",
    "# columns_except_evi = np.arange(x_train.shape[1]) != 4\n",
    "# x_train_wo_evi = x_train[:, columns_except_evi]\n",
    "# y_train = pd.read_csv('ytrain.csv').drop(columns=['Unnamed: 0']).to_numpy().ravel()\n",
    "\n",
    "# x_val = pd.read_csv('Xval.csv').drop(columns=['Unnamed: 0']).to_numpy()\n",
    "# x_val_wo_evi = x_val[:, columns_except_evi]\n",
    "# y_val = pd.read_csv('yval.csv').drop(columns=['Unnamed: 0']).to_numpy().ravel()\n",
    "\n",
    "# # For RandomSeachCV, we will need to combine training and validation \n",
    "# # sets then specify which portion is training and which is validation\n",
    "# # Also, for the final performance evaluation, train on all of \n",
    "# # the training AND validation data\n",
    "# X_train_plus_val = np.concatenate((x_train, x_val), axis=0)\n",
    "# x_train_plus_val_wo_evi = X_train_plus_val[:, columns_except_evi]\n",
    "# y_train_plus_val = np.concatenate((y_train, y_val), axis=0)\n",
    "\n",
    "# # Create a predefined train/test split for RandomSearchCV (to be used later)\n",
    "# validation_fold = np.concatenate((-1 * np.ones(len(y_train)), np.zeros(len(y_val))))\n",
    "# train_val_split = PredefinedSplit(validation_fold)\n",
    "\n",
    "# x_test = pd.read_csv('XTopTestTrain.csv').drop(columns=['Unnamed: 0']).to_numpy()\n",
    "# x_test_wo_evi = x_test[:, columns_except_evi]\n",
    "# y_test = pd.read_csv('yTopTestTrain.csv').drop(columns=['Unnamed: 0']).to_numpy().ravel()"
   ]
  },
  {
   "cell_type": "code",
   "execution_count": 2,
   "metadata": {},
   "outputs": [],
   "source": [
    "X_train = np.loadtxt(\"X_train.txt\")\n",
    "x_train_wo_evi = X_train[:, :48]\n",
    "y_train = np.loadtxt('y_train.txt')\n",
    "\n",
    "X_val = np.loadtxt(\"X_val.txt\")\n",
    "x_val_wo_evi = X_val[:, :48]\n",
    "y_val = np.loadtxt('y_val.txt')\n",
    "\n",
    "X_test = np.loadtxt(\"X_test.txt\")\n",
    "x_test_wo_evi = X_test[:, :48]\n",
    "y_test = np.loadtxt('y_test.txt')\n",
    "\n",
    "\n",
    "# For RandomSeachCV, we will need to combine training and validation \n",
    "# sets then specify which portion is training and which is validation\n",
    "# Also, for the final performance evaluation, train on all of \n",
    "# the training AND validation data\n",
    "X_train_plus_val = np.concatenate((X_train, X_val), axis=0)\n",
    "x_train_plus_val_wo_evi = X_train_plus_val[:, :48]\n",
    "y_train_plus_val = np.concatenate((y_train, y_val), axis=0)\n",
    "# Create a predefined train/test split for RandomSearchCV\n",
    "validation_fold = np.concatenate((-1 * np.ones(len(y_train)), np.zeros(len(y_val))))\n",
    "train_val_split = PredefinedSplit(validation_fold)"
   ]
  },
  {
   "cell_type": "code",
   "execution_count": 20,
   "metadata": {},
   "outputs": [
    {
     "data": {
      "text/plain": [
       "array([[195.,  24.,   6.],\n",
       "       [ 83., 120.,  22.],\n",
       "       [ 24.,  98., 103.],\n",
       "       [169.,  38.,  18.],\n",
       "       [ 28.,  99.,  98.],\n",
       "       [ 17.,  48., 160.],\n",
       "       [ 16.,  42., 167.],\n",
       "       [ 19.,  71., 135.],\n",
       "       [ 17.,  34., 174.],\n",
       "       [ 60.,  85.,  80.],\n",
       "       [ 17., 173.,  35.],\n",
       "       [157.,  45.,  23.],\n",
       "       [221.,   0.,   4.],\n",
       "       [  0., 225.,   0.],\n",
       "       [ 75.,  75.,  75.],\n",
       "       [ 75.,  75.,  75.],\n",
       "       [  1.,  18., 206.]])"
      ]
     },
     "execution_count": 20,
     "metadata": {},
     "output_type": "execute_result"
    }
   ],
   "source": [
    "X_train[0].reshape(17,-1)"
   ]
  },
  {
   "cell_type": "code",
   "execution_count": 21,
   "metadata": {},
   "outputs": [
    {
     "data": {
      "text/plain": [
       "array([[195.,  24.,   6.],\n",
       "       [ 83., 120.,  22.],\n",
       "       [ 24.,  98., 103.],\n",
       "       [169.,  38.,  18.],\n",
       "       [ 28.,  99.,  98.],\n",
       "       [ 17.,  48., 160.],\n",
       "       [ 16.,  42., 167.],\n",
       "       [ 19.,  71., 135.],\n",
       "       [ 17.,  34., 174.],\n",
       "       [ 60.,  85.,  80.],\n",
       "       [ 17., 173.,  35.],\n",
       "       [157.,  45.,  23.],\n",
       "       [221.,   0.,   4.],\n",
       "       [  0., 225.,   0.],\n",
       "       [ 75.,  75.,  75.],\n",
       "       [ 75.,  75.,  75.]])"
      ]
     },
     "execution_count": 21,
     "metadata": {},
     "output_type": "execute_result"
    }
   ],
   "source": [
    "x_train_wo_evi[0].reshape(16,-1)"
   ]
  },
  {
   "attachments": {},
   "cell_type": "markdown",
   "metadata": {},
   "source": [
    "### I. Linear Regression Baseline"
   ]
  },
  {
   "attachments": {},
   "cell_type": "markdown",
   "metadata": {},
   "source": [
    "### II. BASIC RANDOM FOREST WITH ALL BANDS (TABLE 1)"
   ]
  },
  {
   "cell_type": "code",
   "execution_count": 3,
   "metadata": {},
   "outputs": [
    {
     "name": "stdout",
     "output_type": "stream",
     "text": [
      "\n",
      "Training MSE: 450.30000751619644\n",
      "Training RMSE: 21.220273502389087\n",
      "Validation MSE: 4196.1280321969325\n",
      "Validation RMSE: 64.77752721582488\n",
      "Test MSE: 4182.331303932593\n",
      "Test RMSE: 64.67094636645264\n",
      "\n"
     ]
    }
   ],
   "source": [
    "# # DEFAULT RANDOM FOREST WITH ALL BANDS except EVI\n",
    "# rf_model_base = RandomForestRegressor(random_state=1)\n",
    "\n",
    "# rf_model_base.fit(x_train_wo_evi, y_train)\n",
    "\n",
    "# print(f\"\"\"\n",
    "# Training MSE: {mse(y_train, rf_model_base.predict(x_train_wo_evi))}\n",
    "# Training RMSE: {np.sqrt(mse(y_train, rf_model_base.predict(x_train_wo_evi)))}\n",
    "# Validation MSE: {mse(y_val, rf_model_base.predict(x_val_wo_evi))}\n",
    "# Validation RMSE: {np.sqrt(mse(y_val, rf_model_base.predict(x_val_wo_evi)))}\n",
    "# Test MSE: {mse(y_test, rf_model_base.predict(x_test_wo_evi))}\n",
    "# Test RMSE: {np.sqrt(mse(y_test, rf_model_base.predict(x_test_wo_evi)))}\n",
    "# \"\"\")"
   ]
  },
  {
   "cell_type": "code",
   "execution_count": 22,
   "metadata": {},
   "outputs": [
    {
     "name": "stdout",
     "output_type": "stream",
     "text": [
      "\n",
      "Training MSE: 447.747314508847\n",
      "Training RMSE: 21.16004051293019\n",
      "Validation MSE: 4182.310727089386\n",
      "Validation RMSE: 64.67078727748245\n",
      "Test MSE: 4167.40548080033\n",
      "Test RMSE: 64.55544501279756\n",
      "\n",
      "\n",
      "Training MSE: 445.03886095430136\n",
      "Training RMSE: 21.09594418257456\n",
      "Validation MSE: 4192.813221572383\n",
      "Validation RMSE: 64.75193604497385\n",
      "Test MSE: 4175.418894575483\n",
      "Test RMSE: 64.61748133884115\n",
      "\n",
      "\n",
      "Training MSE: 449.1695002945493\n",
      "Training RMSE: 21.193619329754636\n",
      "Validation MSE: 4184.913758604393\n",
      "Validation RMSE: 64.69090939694999\n",
      "Test MSE: 4187.754627507485\n",
      "Test RMSE: 64.71286292158217\n",
      "\n",
      "\n",
      "Test RMSEs: [64.55544501279756, 64.61748133884115, 64.71286292158217]\n",
      "Average Test RMSE: 64.63\n",
      "Standard Deviation of Test RMSE: 0.06\n",
      "Test R^2: [0.019012085093448094, 0.017125764670156585, 0.01422199037136096]\n",
      "average R^2: 0.02\n",
      "\n"
     ]
    }
   ],
   "source": [
    "# Run DEFAULT RANDOM FOREST WITH ALL BANDS except EVI three times \n",
    "# to get the average test RMSE and standard deviation of the RMSE for the default random forest model\n",
    "rmse_lst_1 = []\n",
    "r_2_lst_1 = []\n",
    "\n",
    "for i in range(3):\n",
    "    rf_model_base = RandomForestRegressor().fit(x_train_wo_evi, y_train)\n",
    "    print(f\"\"\"\n",
    "Training MSE: {mse(y_train, rf_model_base.predict(x_train_wo_evi))}\n",
    "Training RMSE: {np.sqrt(mse(y_train, rf_model_base.predict(x_train_wo_evi)))}\n",
    "Validation MSE: {mse(y_val, rf_model_base.predict(x_val_wo_evi))}\n",
    "Validation RMSE: {np.sqrt(mse(y_val, rf_model_base.predict(x_val_wo_evi)))}\n",
    "Test MSE: {mse(y_test, rf_model_base.predict(x_test_wo_evi))}\n",
    "Test RMSE: {np.sqrt(mse(y_test, rf_model_base.predict(x_test_wo_evi)))}\n",
    "\"\"\")\n",
    "    rmse_lst_1.append(np.sqrt(mse(y_test, rf_model_base.predict(x_test_wo_evi))))\n",
    "    r_2_lst_1.append(rf_model_base.score(x_test_wo_evi, y_test))\n",
    "\n",
    "#calculate standard deviation of RMSE\n",
    "std_1 = np.std(rmse_lst_1)\n",
    "print(f\"\"\"\n",
    "Test RMSEs: {rmse_lst_1}\n",
    "Average Test RMSE: {np.mean(rmse_lst_1):.2f}\n",
    "Standard Deviation of Test RMSE: {std_1:.2f}\n",
    "Test R^2: {r_2_lst_1}\n",
    "average R^2: {np.mean(r_2_lst_1):.2f}\n",
    "\"\"\")"
   ]
  },
  {
   "cell_type": "code",
   "execution_count": 23,
   "metadata": {},
   "outputs": [
    {
     "name": "stdout",
     "output_type": "stream",
     "text": [
      "\n",
      "Training MSE: 1455.4607637548763\n",
      "Training RMSE: 38.15050148759353\n",
      "Validation MSE: 4238.5450994967105\n",
      "Validation RMSE: 65.10410969744315\n",
      "Test MSE: 4340.534633390086\n",
      "Test RMSE: 65.88273395503624\n",
      "\n"
     ]
    }
   ],
   "source": [
    "# xgboost WITH ALL BANDS except EVI\n",
    "import xgboost as xgb\n",
    "# XGBoost with all bands\n",
    "xgb_default = xgb.XGBRegressor() #tuning learning rate did not help?\n",
    "\n",
    "xgb_default.fit(x_train_wo_evi, y_train)\n",
    "\n",
    "print(f\"\"\"\n",
    "Training MSE: {mse(y_train, xgb_default.predict(x_train_wo_evi))}\n",
    "Training RMSE: {np.sqrt(mse(y_train, xgb_default.predict(x_train_wo_evi)))}\n",
    "Validation MSE: {mse(y_val, xgb_default.predict(x_val_wo_evi))}\n",
    "Validation RMSE: {np.sqrt(mse(y_val, xgb_default.predict(x_val_wo_evi)))}\n",
    "Test MSE: {mse(y_test, xgb_default.predict(x_test_wo_evi))}\n",
    "Test RMSE: {np.sqrt(mse(y_test, xgb_default.predict(x_test_wo_evi)))}\n",
    "\"\"\")"
   ]
  },
  {
   "cell_type": "code",
   "execution_count": 6,
   "metadata": {},
   "outputs": [
    {
     "name": "stdout",
     "output_type": "stream",
     "text": [
      "\n",
      "Training MSE: 450.30000751619644\n",
      "Training RMSE: 21.220273502389087\n",
      "Validation MSE: 4196.1280321969325\n",
      "Validation RMSE: 64.77752721582488\n",
      "Test MSE: 4182.331303932593\n",
      "Test RMSE: 64.67094636645264\n",
      "\n"
     ]
    }
   ],
   "source": [
    "# # DEFAULT RANDOM FOREST WITH ALL BANDS with EVI\n",
    "# rf_model_base = RandomForestRegressor()\n",
    "\n",
    "# rf_model_base.fit(X_train, y_train)\n",
    "\n",
    "# print(f\"\"\"\n",
    "# Training MSE: {mse(y_train, rf_model_base.predict(X_train))}\n",
    "# Training RMSE: {np.sqrt(mse(y_train, rf_model_base.predict(X_train)))}\n",
    "# Validation MSE: {mse(y_val, rf_model_base.predict(X_val))}\n",
    "# Validation RMSE: {np.sqrt(mse(y_val, rf_model_base.predict(X_val)))}\n",
    "# Test MSE: {mse(y_test, rf_model_base.predict(X_test))}\n",
    "# Test RMSE: {np.sqrt(mse(y_test, rf_model_base.predict(X_test)))}\n",
    "# \"\"\")"
   ]
  },
  {
   "cell_type": "code",
   "execution_count": 25,
   "metadata": {},
   "outputs": [
    {
     "name": "stdout",
     "output_type": "stream",
     "text": [
      "\n",
      "Test RMSEs: [64.56181650021016, 64.96798207825634, 64.62531262472861]\n",
      "Average Test RMSE: 64.72\n",
      "Standard Deviation of Test RMSE: 0.18\n",
      "Test R^2: [0.018818432626213633, 0.006434154306410034, 0.016887512253125347]\n",
      "average R^2: 0.01\n",
      "\n"
     ]
    }
   ],
   "source": [
    "# Run DEFAULT RANDOM FOREST WITH ALL BANDS including EVI three times \n",
    "# to get the average test RMSE and standard deviation of the RMSE for the default random forest model\n",
    "rmse_lst_2 = []\n",
    "r_2_lst_2 = []\n",
    "\n",
    "for i in range(3):\n",
    "    rf_model_evi = RandomForestRegressor().fit(X_train, y_train)\n",
    "    rmse_lst_2.append(np.sqrt(mse(y_test, rf_model_evi.predict(X_test))))\n",
    "    r_2_lst_2.append(rf_model_evi.score(X_test, y_test))\n",
    "\n",
    "#calculate standard deviation of RMSE\n",
    "std_2 = np.std(rmse_lst_2)\n",
    "print(f\"\"\"\n",
    "Test RMSEs: {rmse_lst_2}\n",
    "Average Test RMSE: {np.mean(rmse_lst_2):.2f}\n",
    "Standard Deviation of Test RMSE: {std_2:.2f}\n",
    "Test R^2: {r_2_lst_2}\n",
    "average R^2: {np.mean(r_2_lst_2):.2f}\n",
    "\"\"\")"
   ]
  },
  {
   "cell_type": "code",
   "execution_count": 26,
   "metadata": {},
   "outputs": [],
   "source": [
    "importance = rf_model_evi.feature_importances_.reshape(17,-1).mean(axis=1)"
   ]
  },
  {
   "cell_type": "code",
   "execution_count": 27,
   "metadata": {},
   "outputs": [
    {
     "name": "stdout",
     "output_type": "stream",
     "text": [
      "Feature: 0, Score: 0.03115\n",
      "Feature: 1, Score: 0.02451\n",
      "Feature: 2, Score: 0.02418\n",
      "Feature: 3, Score: 0.02628\n",
      "Feature: 4, Score: 0.02337\n",
      "Feature: 5, Score: 0.02149\n",
      "Feature: 6, Score: 0.02012\n",
      "Feature: 7, Score: 0.02497\n",
      "Feature: 8, Score: 0.02103\n",
      "Feature: 9, Score: 0.03024\n",
      "Feature: 10, Score: 0.02237\n",
      "Feature: 11, Score: 0.02396\n",
      "Feature: 12, Score: 0.00889\n",
      "Feature: 13, Score: 0.00925\n",
      "Feature: 14, Score: 0.00000\n",
      "Feature: 15, Score: 0.00000\n",
      "Feature: 16, Score: 0.02153\n"
     ]
    },
    {
     "data": {
      "image/png": "[encoded data removed]",
      "text/plain": [
       "<Figure size 640x480 with 1 Axes>"
      ]
     },
     "metadata": {},
     "output_type": "display_data"
    }
   ],
   "source": [
    "# summarize feature importance\n",
    "for i,v in enumerate(importance):\n",
    " print('Feature: %0d, Score: %.5f' % (i,v))\n",
    "# plot feature importance\n",
    "plt.bar([x for x in range(len(importance))], importance)\n",
    "plt.show()"
   ]
  },
  {
   "attachments": {},
   "cell_type": "markdown",
   "metadata": {},
   "source": [
    "### III. FINE TUNING RANDOM FOREST WITH ALL BANDS (LAST TWO CODE BLOCK - TABLE 2)"
   ]
  },
  {
   "cell_type": "code",
   "execution_count": 11,
   "metadata": {},
   "outputs": [
    {
     "name": "stderr",
     "output_type": "stream",
     "text": [
      "/home/codespace/.local/lib/python3.10/site-packages/sklearn/model_selection/_search.py:305: UserWarning: The total space of parameters 5 is smaller than n_iter=55. Running 5 iterations. For exhaustive searches, use GridSearchCV.\n",
      "  warnings.warn(\n"
     ]
    },
    {
     "name": "stdout",
     "output_type": "stream",
     "text": [
      "Best: -0.021278965995474186 using {'n_estimators': 115, 'max_features': None}\n",
      "\n"
     ]
    }
   ],
   "source": [
    "### FINE TUNING on all normalized features\n",
    "rf_model_ft_wo_evi = RandomForestRegressor(random_state=1)\n",
    "\n",
    "max_depth_wo_evi = list(np.linspace(1, 10, 10, dtype=int))\n",
    "max_depth_wo_evi.append(None)\n",
    "# Define the hyperparameters to tune\n",
    "\n",
    "hyperparameters_wo_evi = {\n",
    "    \"n_estimators\": np.linspace(100, 120, 5, dtype=int),\n",
    "    \"max_features\": [None],\n",
    "    # \"max_depth\": max_depth_wo_evi,\n",
    "    # \"max_leaf_nodes\": np.linspace(2, 90, 89, dtype=int),\n",
    "    # \"min_samples_split\": np.linspace(2, 25, 24, dtype=int),\n",
    "    # \"min_samples_leaf\": np.linspace(1, 80, 80, dtype=int),\n",
    "    # \"bootstrap\": [True, False], #Random Search always returned True\n",
    "}\n",
    "\n",
    "# Define the random search object\n",
    "random_search_wo_evi = RandomizedSearchCV(\n",
    "    estimator=rf_model_ft_wo_evi,\n",
    "    param_distributions=hyperparameters_wo_evi,\n",
    "    n_iter=55,\n",
    "    cv=train_val_split,\n",
    "    # cv=5,\n",
    "    random_state=42,\n",
    "    n_jobs=-1,\n",
    ")\n",
    "\n",
    "# Fit the random search object to the training data\n",
    "random_search_wo_evi.fit(x_train_plus_val_wo_evi, y_train_plus_val)\n",
    "# summarize results\n",
    "print(f\"\"\"Best: {random_search_wo_evi.best_score_} using {random_search_wo_evi.best_params_}\n",
    "\"\"\")\n",
    "\n",
    "# rf_model_tuned_wo_evi = RandomForestRegressor(**random_search_wo_evi.best_params_,random_state=1).fit(x_train_wo_evi, y_train)\n",
    "\n",
    "# print(f\"\"\"\n",
    "# Training MSE: {mse(y_train, rf_model_tuned_wo_evi.predict(x_train_wo_evi))}\n",
    "# Training RMSE: {np.sqrt(mse(y_train, rf_model_tuned_wo_evi.predict(x_train_wo_evi)))}\n",
    "# Validation MSE: {mse(y_val, rf_model_tuned_wo_evi.predict(x_val_wo_evi))}\n",
    "# Validation RMSE: {np.sqrt(mse(y_val, rf_model_tuned_wo_evi.predict(x_val_wo_evi)))}\n",
    "# Test MSE: {mse(y_test, rf_model_tuned_wo_evi.predict(x_test_wo_evi))}\n",
    "# Test RMSE: {np.sqrt(mse(y_test, rf_model_tuned_wo_evi.predict(x_test_wo_evi)))}\n",
    "# \"\"\")\n"
   ]
  },
  {
   "cell_type": "code",
   "execution_count": 12,
   "metadata": {},
   "outputs": [
    {
     "name": "stdout",
     "output_type": "stream",
     "text": [
      "\n",
      "Test RMSEs: [64.59952245742001, 64.6683963478944, 64.61477637600841]\n",
      "Average Test RMSE: 64.63\n",
      "Standard Deviation of Test RMSE: 0.03\n",
      "Test R^2: [0.01767202146003488, 0.01557625314065203, 0.01720805146233395]\n",
      "average R^2: 0.02\n",
      "\n"
     ]
    }
   ],
   "source": [
    "# Run Fine Tuned RANDOM FOREST WITH ALL BANDS except EVI three times \n",
    "# to get the average test RMSE and standard deviation of the RMSE for the default random forest model\n",
    "rmse_lst_3 = []\n",
    "r_2_lst_3 = []\n",
    "\n",
    "for i in range(3):\n",
    "    rf_model_no_evi = RandomForestRegressor(\n",
    "        **random_search_wo_evi.best_params_\n",
    "        ).fit(x_train_wo_evi, y_train)\n",
    "    rmse_lst_3.append(np.sqrt(mse(y_test, rf_model_no_evi.predict(x_test_wo_evi))))\n",
    "    r_2_lst_3.append(rf_model_no_evi.score(x_test_wo_evi, y_test))\n",
    "\n",
    "#calculate standard deviation of RMSE\n",
    "std_3 = np.std(rmse_lst_3)\n",
    "print(f\"\"\"\n",
    "Test RMSEs: {rmse_lst_3}\n",
    "Average Test RMSE: {np.mean(rmse_lst_3):.2f}\n",
    "Standard Deviation of Test RMSE: {std_3:.2f}\n",
    "Test R^2: {r_2_lst_3}\n",
    "average R^2: {np.mean(r_2_lst_3):.2f}\n",
    "\"\"\")"
   ]
  },
  {
   "cell_type": "code",
   "execution_count": 3,
   "metadata": {},
   "outputs": [
    {
     "name": "stdout",
     "output_type": "stream",
     "text": [
      "Best: 0.009300628442710623 using {'n_estimators': 100, 'max_features': None, 'max_depth': 6}\n",
      "\n"
     ]
    }
   ],
   "source": [
    "### FINE TUNING on EVI bands\n",
    "rf_model_ft = RandomForestRegressor(random_state=1)\n",
    "\n",
    "\n",
    "max_depth = list(np.linspace(1, 10, 10, dtype=int))\n",
    "max_depth.append(None)\n",
    "# Define the hyperparameters to tune\n",
    "\n",
    "hyperparameters = {\n",
    "    \"n_estimators\": np.linspace(95, 105, 5, dtype=int),\n",
    "    \"max_features\": [None],\n",
    "    \"max_depth\": max_depth,\n",
    "    # \"max_leaf_nodes\": np.linspace(2, 50, 49, dtype=int),\n",
    "    # \"min_samples_split\": np.linspace(2, 25, 24, dtype=int),\n",
    "    # \"min_samples_leaf\": np.linspace(1, 30, 30, dtype=int),\n",
    "    # \"bootstrap\": [True, False],\n",
    "}\n",
    "\n",
    "# Define the random search object\n",
    "random_search = RandomizedSearchCV(\n",
    "    estimator=rf_model_ft,\n",
    "    param_distributions=hyperparameters,\n",
    "    n_iter=55,\n",
    "    cv=train_val_split,\n",
    "    random_state=42,\n",
    "    n_jobs=-1,\n",
    ")\n",
    "\n",
    "# Fit the random search object to the training data\n",
    "random_search.fit(X_train_plus_val, y_train_plus_val)\n",
    "# summarize results\n",
    "print(f\"\"\"Best: {random_search.best_score_} using {random_search.best_params_}\n",
    "\"\"\")\n",
    "# means = random_search.cv_results_['mean_test_score']\n",
    "# stds = random_search.cv_results_['std_test_score']\n",
    "# params = random_search.cv_results_['params']\n",
    "# for mean, stdev, param in zip(means, stds, params):\n",
    "#     print(\"%f (%f) with: %r\" % (mean, stdev, param))\n"
   ]
  },
  {
   "cell_type": "code",
   "execution_count": 7,
   "metadata": {},
   "outputs": [
    {
     "name": "stdout",
     "output_type": "stream",
     "text": [
      "\n",
      "Test RMSEs: [64.6609304432906, 64.69087185319182, 64.68228225828993]\n",
      "Average Test RMSE: 64.68\n",
      "Standard Deviation of Test RMSE: 0.01\n",
      "Test R^2: [0.015803541582792846, 0.014891861158387254, 0.015153447309192436]\n",
      "average R^2: 0.02\n",
      "\n"
     ]
    }
   ],
   "source": [
    "# Run Fined Tuned RANDOM FOREST WITH ALL BANDS except EVI three times \n",
    "# to get the average test RMSE and standard deviation of the RMSE for the default random forest model\n",
    "rmse_lst_4 = []\n",
    "r_2_lst_4 = []\n",
    "\n",
    "for i in range(3):\n",
    "    rf_model_evi = RandomForestRegressor(**random_search.best_params_).fit(X_train_plus_val, y_train_plus_val)\n",
    "    rmse_lst_4.append(np.sqrt(mse(y_test, rf_model_evi.predict(X_test))))\n",
    "    r_2_lst_4.append(rf_model_evi.score(X_test, y_test))\n",
    "\n",
    "#calculate standard deviation of RMSE\n",
    "std_4 = np.std(rmse_lst_4)\n",
    "print(f\"\"\"\n",
    "Test RMSEs: {rmse_lst_4}\n",
    "Average Test RMSE: {np.mean(rmse_lst_4):.2f}\n",
    "Standard Deviation of Test RMSE: {std_4:.2f}\n",
    "Test R^2: {r_2_lst_4}\n",
    "average R^2: {np.mean(r_2_lst_4):.2f}\n",
    "\"\"\")"
   ]
  },
  {
   "attachments": {},
   "cell_type": "markdown",
   "metadata": {},
   "source": [
    "### IV. SPECTURAL BANDS"
   ]
  },
  {
   "cell_type": "code",
   "execution_count": 7,
   "metadata": {},
   "outputs": [],
   "source": [
    "# tuned_parameters_rf = {'n_estimators': 100, 'max_features': None, 'max_depth': 20}\n",
    "\n",
    "# # define a function to try different bands\n",
    "# def try_bands(x_train: np.ndarray, x_val: np.ndarray, x_test: np.ndarray):\n",
    "#     rf = RandomForestRegressor(\n",
    "#         # **tuned_parameters_rf,\n",
    "#         random_state=1).fit(x_train, y_train)\n",
    "#     print(f\"\"\"\n",
    "#     Training MSE: {mse(y_train, rf.predict(x_train))}\n",
    "#     Training RMSE: {np.sqrt(mse(y_train, rf.predict(x_train)))}\n",
    "#     Validation MSE: {mse(y_val, rf.predict(x_val))}\n",
    "#     Validation RMSE: {np.sqrt(mse(y_val, rf.predict(x_val)))}\n",
    "#     Test MSE: {mse(y_test, rf.predict(x_test))}\n",
    "#     Test RMSE: {np.sqrt(mse(y_test, rf.predict(x_test)))}\n",
    "#     \"\"\")"
   ]
  },
  {
   "cell_type": "code",
   "execution_count": 3,
   "metadata": {},
   "outputs": [],
   "source": [
    "# tuned_parameters_rf = {'n_estimators': 100, 'max_features': None, 'max_depth': 6}\n",
    "\n",
    "\n",
    "# define a function to try different bands\n",
    "def try_bands(x_train: np.ndarray, x_test: np.ndarray):\n",
    "    \n",
    "    rmse_lst = []\n",
    "    r_2_lst = []\n",
    "\n",
    "    for i in range(3):\n",
    "        rf = RandomForestRegressor(\n",
    "        # **tuned_parameters_rf,\n",
    "        # random_state=1\n",
    "        ).fit(x_train, y_train)\n",
    "        rmse_lst.append(np.sqrt(mse(y_test, rf.predict(x_test))))\n",
    "        r_2_lst.append(rf.score(x_test, y_test))\n",
    "    \n",
    "    #calculate standard deviation of RMSE\n",
    "    std = np.std(rmse_lst)\n",
    "    print(f\"\"\"\n",
    "    Test RMSEs: {rmse_lst}\n",
    "    Average Test RMSE: {np.mean(rmse_lst):.4f}\n",
    "    Standard Deviation of Test RMSE: {std:.4f}\n",
    "    Test R^2: {r_2_lst}\n",
    "    average R^2: {np.mean(r_2_lst):.4f}\n",
    "    \"\"\")"
   ]
  },
  {
   "cell_type": "code",
   "execution_count": 16,
   "metadata": {},
   "outputs": [
    {
     "data": {
      "text/plain": [
       "array([[195.,  24.,   6.],\n",
       "       [ 83., 120.,  22.],\n",
       "       [ 24.,  98., 103.],\n",
       "       [169.,  38.,  18.],\n",
       "       [ 28.,  99.,  98.],\n",
       "       [ 17.,  48., 160.],\n",
       "       [ 16.,  42., 167.],\n",
       "       [ 19.,  71., 135.],\n",
       "       [ 17.,  34., 174.],\n",
       "       [ 60.,  85.,  80.],\n",
       "       [ 17., 173.,  35.],\n",
       "       [157.,  45.,  23.],\n",
       "       [221.,   0.,   4.],\n",
       "       [  0., 225.,   0.],\n",
       "       [ 75.,  75.,  75.],\n",
       "       [ 75.,  75.,  75.],\n",
       "       [  1.,  18., 206.]])"
      ]
     },
     "execution_count": 16,
     "metadata": {},
     "output_type": "execute_result"
    }
   ],
   "source": [
    "X_train[0].reshape(17,-1)"
   ]
  },
  {
   "cell_type": "code",
   "execution_count": 17,
   "metadata": {},
   "outputs": [
    {
     "data": {
      "text/plain": [
       "array([[195.,  24.,   6.],\n",
       "       [ 83., 120.,  22.],\n",
       "       [ 24.,  98., 103.],\n",
       "       [169.,  38.,  18.],\n",
       "       [ 28.,  99.,  98.],\n",
       "       [ 17.,  48., 160.],\n",
       "       [ 16.,  42., 167.],\n",
       "       [ 19.,  71., 135.],\n",
       "       [ 17.,  34., 174.],\n",
       "       [ 60.,  85.,  80.],\n",
       "       [ 17., 173.,  35.],\n",
       "       [157.,  45.,  23.],\n",
       "       [221.,   0.,   4.],\n",
       "       [  0., 225.,   0.],\n",
       "       [ 75.,  75.,  75.],\n",
       "       [ 75.,  75.,  75.]])"
      ]
     },
     "execution_count": 17,
     "metadata": {},
     "output_type": "execute_result"
    }
   ],
   "source": [
    "x_train_wo_evi[0].reshape(16,-1)"
   ]
  },
  {
   "cell_type": "code",
   "execution_count": 8,
   "metadata": {},
   "outputs": [
    {
     "data": {
      "text/plain": [
       "array([[ 83., 120.,  22.],\n",
       "       [ 24.,  98., 103.],\n",
       "       [169.,  38.,  18.]])"
      ]
     },
     "execution_count": 8,
     "metadata": {},
     "output_type": "execute_result"
    }
   ],
   "source": [
    "x_train_wo_evi[0,3:12].reshape(3,-1)"
   ]
  },
  {
   "cell_type": "code",
   "execution_count": 28,
   "metadata": {},
   "outputs": [
    {
     "name": "stdout",
     "output_type": "stream",
     "text": [
      "\n",
      "    Test RMSEs: [65.11888939482841, 65.12743765582994, 65.02092166138847]\n",
      "    Average Test RMSE: 65.0891\n",
      "    Standard Deviation of Test RMSE: 0.0483\n",
      "    Test R^2: [0.0018130936998598246, 0.001551009308146556, 0.004814267392725724]\n",
      "    average R^2: 0.0027\n",
      "    \n"
     ]
    }
   ],
   "source": [
    "# 1. RBG\n",
    "# try_bands(x_train_wo_evi[:,17:64], x_val_wo_evi[:,17:64], x_test_wo_evi[:,17:64]) #16 bands slicing\n",
    "try_bands(x_train_wo_evi[:,3:12], x_test_wo_evi[:,3:12])"
   ]
  },
  {
   "cell_type": "code",
   "execution_count": 4,
   "metadata": {},
   "outputs": [
    {
     "data": {
      "text/plain": [
       "array([[ 83., 120.,  22.],\n",
       "       [ 24.,  98., 103.],\n",
       "       [169.,  38.,  18.],\n",
       "       [ 28.,  99.,  98.],\n",
       "       [ 17.,  48., 160.],\n",
       "       [ 16.,  42., 167.],\n",
       "       [ 19.,  71., 135.],\n",
       "       [ 17.,  34., 174.],\n",
       "       [ 60.,  85.,  80.],\n",
       "       [ 17., 173.,  35.],\n",
       "       [157.,  45.,  23.],\n",
       "       [221.,   0.,   4.],\n",
       "       [  0., 225.,   0.],\n",
       "       [ 75.,  75.,  75.],\n",
       "       [ 75.,  75.,  75.]])"
      ]
     },
     "execution_count": 4,
     "metadata": {},
     "output_type": "execute_result"
    }
   ],
   "source": [
    "x_train_wo_evi[0,3:].reshape(15,-1)"
   ]
  },
  {
   "cell_type": "code",
   "execution_count": 34,
   "metadata": {},
   "outputs": [
    {
     "name": "stdout",
     "output_type": "stream",
     "text": [
      "\n",
      "    Test RMSEs: [64.69186415537499, 64.64233994300072, 64.6347686988806]\n",
      "    Average Test RMSE: 64.6563\n",
      "    Standard Deviation of Test RMSE: 0.0253\n",
      "    Test R^2: [0.014861639508067515, 0.016369387889071052, 0.01659979017219848]\n",
      "    average R^2: 0.0159\n",
      "    \n"
     ]
    }
   ],
   "source": [
    "# 2. No Coastal Aerosol\n",
    "# try_bands(x_train_wo_evi[:,17:], x_val_wo_evi[:,17:], x_test_wo_evi[:,17:])\n",
    "try_bands(x_train_wo_evi[:,3:], x_test_wo_evi[:,3:])"
   ]
  },
  {
   "cell_type": "code",
   "execution_count": 10,
   "metadata": {},
   "outputs": [
    {
     "data": {
      "text/plain": [
       "array([[195.,  24.,   6.],\n",
       "       [ 24.,  98., 103.],\n",
       "       [169.,  38.,  18.],\n",
       "       [ 28.,  99.,  98.],\n",
       "       [ 17.,  48., 160.],\n",
       "       [ 16.,  42., 167.],\n",
       "       [ 19.,  71., 135.],\n",
       "       [ 17.,  34., 174.],\n",
       "       [ 60.,  85.,  80.],\n",
       "       [ 17., 173.,  35.],\n",
       "       [157.,  45.,  23.],\n",
       "       [221.,   0.,   4.],\n",
       "       [  0., 225.,   0.],\n",
       "       [ 75.,  75.,  75.],\n",
       "       [ 75.,  75.,  75.]])"
      ]
     },
     "execution_count": 10,
     "metadata": {},
     "output_type": "execute_result"
    }
   ],
   "source": [
    "# x_train_wo_evi[:, np.r_[0:16, 32:256]].shape #no Blue\n",
    "x_train_wo_evi[0, np.r_[0:3, 6:48]].reshape(15,-1) #no Blue"
   ]
  },
  {
   "cell_type": "code",
   "execution_count": 42,
   "metadata": {},
   "outputs": [
    {
     "name": "stdout",
     "output_type": "stream",
     "text": [
      "\n",
      "    Test RMSEs: [64.57716755616819, 64.88128037450643, 64.84696601949653]\n",
      "    Average Test RMSE: 64.7685\n",
      "    Standard Deviation of Test RMSE: 0.1360\n",
      "    Test R^2: [0.018351780209931445, 0.009084271120567089, 0.01013214324231626]\n",
      "    average R^2: 0.0125\n",
      "    \n"
     ]
    }
   ],
   "source": [
    "# 3. No Blue\n",
    "# try_bands(x_train_wo_evi[:, np.r_[0:16, 32:256]], x_val_wo_evi[:, np.r_[0:16, 32:256]], x_test_wo_evi[:, np.r_[0:16, 32:256]])\n",
    "try_bands(x_train_wo_evi[:, np.r_[0:3, 6:48]], x_test_wo_evi[:, np.r_[0:3, 6:48]])"
   ]
  },
  {
   "cell_type": "code",
   "execution_count": 11,
   "metadata": {},
   "outputs": [
    {
     "data": {
      "text/plain": [
       "array([[195.,  24.,   6.],\n",
       "       [ 83., 120.,  22.],\n",
       "       [169.,  38.,  18.],\n",
       "       [ 28.,  99.,  98.],\n",
       "       [ 17.,  48., 160.],\n",
       "       [ 16.,  42., 167.],\n",
       "       [ 19.,  71., 135.],\n",
       "       [ 17.,  34., 174.],\n",
       "       [ 60.,  85.,  80.],\n",
       "       [ 17., 173.,  35.],\n",
       "       [157.,  45.,  23.],\n",
       "       [221.,   0.,   4.],\n",
       "       [  0., 225.,   0.],\n",
       "       [ 75.,  75.,  75.],\n",
       "       [ 75.,  75.,  75.]])"
      ]
     },
     "execution_count": 11,
     "metadata": {},
     "output_type": "execute_result"
    }
   ],
   "source": [
    "x_train_wo_evi[0, np.r_[0:6, 9:48]].reshape(15,-1) # no green"
   ]
  },
  {
   "cell_type": "code",
   "execution_count": 44,
   "metadata": {},
   "outputs": [
    {
     "name": "stdout",
     "output_type": "stream",
     "text": [
      "\n",
      "    Test RMSEs: [64.6288049185282, 64.57651101282175, 64.59751330946375]\n",
      "    Average Test RMSE: 64.6009\n",
      "    Standard Deviation of Test RMSE: 0.0215\n",
      "    Test R^2: [0.01678125635206995, 0.01837174055676638, 0.017733124436765224]\n",
      "    average R^2: 0.0176\n",
      "    \n"
     ]
    }
   ],
   "source": [
    "# 4. No Green\n",
    "# try_bands(x_train_wo_evi[:, np.r_[0:32, 48:256]], x_val_wo_evi[:, np.r_[0:32, 48:256]], x_test_wo_evi[:, np.r_[0:32, 48:256]])\n",
    "try_bands(x_train_wo_evi[:, np.r_[0:6, 9:48]], x_test_wo_evi[:, np.r_[0:6, 9:48]])"
   ]
  },
  {
   "cell_type": "code",
   "execution_count": 5,
   "metadata": {},
   "outputs": [
    {
     "data": {
      "text/plain": [
       "array([[195.,  24.,   6.],\n",
       "       [ 83., 120.,  22.],\n",
       "       [ 24.,  98., 103.],\n",
       "       [ 28.,  99.,  98.],\n",
       "       [ 17.,  48., 160.],\n",
       "       [ 16.,  42., 167.],\n",
       "       [ 19.,  71., 135.],\n",
       "       [ 17.,  34., 174.],\n",
       "       [ 60.,  85.,  80.],\n",
       "       [ 17., 173.,  35.],\n",
       "       [157.,  45.,  23.],\n",
       "       [221.,   0.,   4.],\n",
       "       [  0., 225.,   0.],\n",
       "       [ 75.,  75.,  75.],\n",
       "       [ 75.,  75.,  75.]])"
      ]
     },
     "execution_count": 5,
     "metadata": {},
     "output_type": "execute_result"
    }
   ],
   "source": [
    "x_train_wo_evi[0, np.r_[0:9, 12:48]].reshape(15,-1) # no red"
   ]
  },
  {
   "cell_type": "code",
   "execution_count": 46,
   "metadata": {},
   "outputs": [
    {
     "name": "stdout",
     "output_type": "stream",
     "text": [
      "\n",
      "    Test RMSEs: [64.74579890960757, 64.7304926886739, 64.79559368199992]\n",
      "    Average Test RMSE: 64.7573\n",
      "    Standard Deviation of Test RMSE: 0.0278\n",
      "    Test R^2: [0.013218300114597237, 0.013684804927222016, 0.011699886071398269]\n",
      "    average R^2: 0.0129\n",
      "    \n"
     ]
    }
   ],
   "source": [
    "# 5. No Red\n",
    "try_bands(x_train_wo_evi[:, np.r_[0:9, 12:48]], x_test_wo_evi[:, np.r_[0:9, 12:48]])"
   ]
  },
  {
   "cell_type": "code",
   "execution_count": 6,
   "metadata": {},
   "outputs": [
    {
     "data": {
      "text/plain": [
       "array([[195.,  24.,   6.],\n",
       "       [ 83., 120.,  22.],\n",
       "       [ 24.,  98., 103.],\n",
       "       [169.,  38.,  18.],\n",
       "       [ 17.,  48., 160.],\n",
       "       [ 16.,  42., 167.],\n",
       "       [ 19.,  71., 135.],\n",
       "       [ 17.,  34., 174.],\n",
       "       [ 60.,  85.,  80.],\n",
       "       [ 17., 173.,  35.],\n",
       "       [157.,  45.,  23.],\n",
       "       [221.,   0.,   4.],\n",
       "       [  0., 225.,   0.],\n",
       "       [ 75.,  75.,  75.],\n",
       "       [ 75.,  75.,  75.]])"
      ]
     },
     "execution_count": 6,
     "metadata": {},
     "output_type": "execute_result"
    }
   ],
   "source": [
    "x_train_wo_evi[0, np.r_[0:12, 15:48]].reshape(15,-1) # no Vegetation_Red_Edge"
   ]
  },
  {
   "cell_type": "code",
   "execution_count": 48,
   "metadata": {},
   "outputs": [
    {
     "name": "stdout",
     "output_type": "stream",
     "text": [
      "\n",
      "    Test RMSEs: [64.67806023077343, 64.71082604074472, 64.72664813324909]\n",
      "    Average Test RMSE: 64.7052\n",
      "    Standard Deviation of Test RMSE: 0.0202\n",
      "    Test R^2: [0.015282011527861794, 0.0142840454450186, 0.0138019624110709]\n",
      "    average R^2: 0.0145\n",
      "    \n"
     ]
    }
   ],
   "source": [
    "# 6. No Vegetation_Red_Edge\n",
    "# try_bands(x_train_wo_evi[:, np.r_[0:64, 80:256]], x_val_wo_evi[:, np.r_[0:64, 80:256]], x_test_wo_evi[:, np.r_[0:64, 80:256]])\n",
    "try_bands(x_train_wo_evi[:, np.r_[0:12, 15:48]], x_test_wo_evi[:, np.r_[0:12, 15:48]])"
   ]
  },
  {
   "cell_type": "code",
   "execution_count": 7,
   "metadata": {},
   "outputs": [
    {
     "data": {
      "text/plain": [
       "array([[195.,  24.,   6.],\n",
       "       [ 83., 120.,  22.],\n",
       "       [ 24.,  98., 103.],\n",
       "       [169.,  38.,  18.],\n",
       "       [ 28.,  99.,  98.],\n",
       "       [ 16.,  42., 167.],\n",
       "       [ 19.,  71., 135.],\n",
       "       [ 17.,  34., 174.],\n",
       "       [ 60.,  85.,  80.],\n",
       "       [ 17., 173.,  35.],\n",
       "       [157.,  45.,  23.],\n",
       "       [221.,   0.,   4.],\n",
       "       [  0., 225.,   0.],\n",
       "       [ 75.,  75.,  75.],\n",
       "       [ 75.,  75.,  75.]])"
      ]
     },
     "execution_count": 7,
     "metadata": {},
     "output_type": "execute_result"
    }
   ],
   "source": [
    "x_train_wo_evi[0, np.r_[0:15, 18:48]].reshape(15,-1) # no Vegetation_Red_Edge 2"
   ]
  },
  {
   "cell_type": "code",
   "execution_count": 50,
   "metadata": {},
   "outputs": [
    {
     "name": "stdout",
     "output_type": "stream",
     "text": [
      "\n",
      "    Test RMSEs: [64.61041343481216, 64.70874628857426, 64.52666641803116]\n",
      "    Average Test RMSE: 64.6153\n",
      "    Standard Deviation of Test RMSE: 0.0744\n",
      "    Test R^2: [0.01734076781474725, 0.014347404610029924, 0.019886532196272788]\n",
      "    average R^2: 0.0172\n",
      "    \n"
     ]
    }
   ],
   "source": [
    "# 7. No Vegetation_Red_Edge 2\n",
    "# try_bands(x_train_wo_evi[:, np.r_[0:80, 96:256]], x_val_wo_evi[:, np.r_[0:80, 96:256]], x_test_wo_evi[:, np.r_[0:80, 96:256]])\n",
    "try_bands(x_train_wo_evi[:, np.r_[0:15, 18:48]], x_test_wo_evi[:, np.r_[0:15, 18:48]])"
   ]
  },
  {
   "cell_type": "code",
   "execution_count": 8,
   "metadata": {},
   "outputs": [
    {
     "data": {
      "text/plain": [
       "array([[195.,  24.,   6.],\n",
       "       [ 83., 120.,  22.],\n",
       "       [ 24.,  98., 103.],\n",
       "       [169.,  38.,  18.],\n",
       "       [ 28.,  99.,  98.],\n",
       "       [ 17.,  48., 160.],\n",
       "       [ 19.,  71., 135.],\n",
       "       [ 17.,  34., 174.],\n",
       "       [ 60.,  85.,  80.],\n",
       "       [ 17., 173.,  35.],\n",
       "       [157.,  45.,  23.],\n",
       "       [221.,   0.,   4.],\n",
       "       [  0., 225.,   0.],\n",
       "       [ 75.,  75.,  75.],\n",
       "       [ 75.,  75.,  75.]])"
      ]
     },
     "execution_count": 8,
     "metadata": {},
     "output_type": "execute_result"
    }
   ],
   "source": [
    "x_train_wo_evi[0, np.r_[0:18, 21:48]].reshape(15,-1) # no Vegetation_Red_Edge 3"
   ]
  },
  {
   "cell_type": "code",
   "execution_count": 52,
   "metadata": {},
   "outputs": [
    {
     "name": "stdout",
     "output_type": "stream",
     "text": [
      "\n",
      "    Test RMSEs: [64.60185279657341, 64.51747288917818, 64.57749016019744]\n",
      "    Average Test RMSE: 64.5656\n",
      "    Standard Deviation of Test RMSE: 0.0355\n",
      "    Test R^2: [0.017601147913237747, 0.02016579842957844, 0.0183419722708712]\n",
      "    average R^2: 0.0187\n",
      "    \n"
     ]
    }
   ],
   "source": [
    "# 8. Vegetation_Red_Edge 3\n",
    "try_bands(x_train_wo_evi[:, np.r_[0:18, 21:48]], x_test_wo_evi[:, np.r_[0:18, 21:48]])"
   ]
  },
  {
   "cell_type": "code",
   "execution_count": 9,
   "metadata": {},
   "outputs": [
    {
     "data": {
      "text/plain": [
       "array([[195.,  24.,   6.],\n",
       "       [ 83., 120.,  22.],\n",
       "       [ 24.,  98., 103.],\n",
       "       [169.,  38.,  18.],\n",
       "       [ 28.,  99.,  98.],\n",
       "       [ 17.,  48., 160.],\n",
       "       [ 16.,  42., 167.],\n",
       "       [ 17.,  34., 174.],\n",
       "       [ 60.,  85.,  80.],\n",
       "       [ 17., 173.,  35.],\n",
       "       [157.,  45.,  23.],\n",
       "       [221.,   0.,   4.],\n",
       "       [  0., 225.,   0.],\n",
       "       [ 75.,  75.,  75.],\n",
       "       [ 75.,  75.,  75.]])"
      ]
     },
     "execution_count": 9,
     "metadata": {},
     "output_type": "execute_result"
    }
   ],
   "source": [
    "x_train_wo_evi[0, np.r_[0:21, 24:48]].reshape(15,-1) # no NIR"
   ]
  },
  {
   "cell_type": "code",
   "execution_count": 10,
   "metadata": {},
   "outputs": [
    {
     "name": "stdout",
     "output_type": "stream",
     "text": [
      "\n",
      "    Test RMSEs: [64.82739056589071, 64.86840230185466, 64.72165194578287]\n",
      "    Average Test RMSE: 64.8058\n",
      "    Standard Deviation of Test RMSE: 0.0618\n",
      "    Test R^2: [0.010729678911160057, 0.009477599310815488, 0.013954203883559724]\n",
      "    average R^2: 0.0114\n",
      "    \n"
     ]
    }
   ],
   "source": [
    "# 9. No NIR\n",
    "try_bands(x_train_wo_evi[:, np.r_[0:21, 24:48]], x_test_wo_evi[:, np.r_[0:21, 24:48]])"
   ]
  },
  {
   "cell_type": "code",
   "execution_count": 11,
   "metadata": {},
   "outputs": [
    {
     "data": {
      "text/plain": [
       "array([[195.,  24.,   6.],\n",
       "       [ 83., 120.,  22.],\n",
       "       [ 24.,  98., 103.],\n",
       "       [169.,  38.,  18.],\n",
       "       [ 28.,  99.,  98.],\n",
       "       [ 17.,  48., 160.],\n",
       "       [ 16.,  42., 167.],\n",
       "       [ 19.,  71., 135.],\n",
       "       [ 60.,  85.,  80.],\n",
       "       [ 17., 173.,  35.],\n",
       "       [157.,  45.,  23.],\n",
       "       [221.,   0.,   4.],\n",
       "       [  0., 225.,   0.],\n",
       "       [ 75.,  75.,  75.],\n",
       "       [ 75.,  75.,  75.]])"
      ]
     },
     "execution_count": 11,
     "metadata": {},
     "output_type": "execute_result"
    }
   ],
   "source": [
    "x_train_wo_evi[0, np.r_[0:24, 27:48]].reshape(15,-1) # no narrow NIR"
   ]
  },
  {
   "cell_type": "code",
   "execution_count": 13,
   "metadata": {},
   "outputs": [
    {
     "name": "stdout",
     "output_type": "stream",
     "text": [
      "\n",
      "    Test RMSEs: [64.40074785193637, 64.72567789546203, 64.48478967498731]\n",
      "    Average Test RMSE: 64.5371\n",
      "    Standard Deviation of Test RMSE: 0.1377\n",
      "    Test R^2: [0.023708024073481715, 0.013831527959657697, 0.021158274367252594]\n",
      "    average R^2: 0.0196\n",
      "    \n"
     ]
    }
   ],
   "source": [
    "# 10. No Narrow NIR\n",
    "try_bands(x_train_wo_evi[:, np.r_[0:24, 27:48]], x_test_wo_evi[:, np.r_[0:24, 27:48]])"
   ]
  },
  {
   "cell_type": "code",
   "execution_count": 12,
   "metadata": {},
   "outputs": [
    {
     "data": {
      "text/plain": [
       "array([[195.,  24.,   6.],\n",
       "       [ 83., 120.,  22.],\n",
       "       [ 24.,  98., 103.],\n",
       "       [169.,  38.,  18.],\n",
       "       [ 28.,  99.,  98.],\n",
       "       [ 17.,  48., 160.],\n",
       "       [ 16.,  42., 167.],\n",
       "       [ 19.,  71., 135.],\n",
       "       [ 17.,  34., 174.],\n",
       "       [ 17., 173.,  35.],\n",
       "       [157.,  45.,  23.],\n",
       "       [221.,   0.,   4.],\n",
       "       [  0., 225.,   0.],\n",
       "       [ 75.,  75.,  75.],\n",
       "       [ 75.,  75.,  75.]])"
      ]
     },
     "execution_count": 12,
     "metadata": {},
     "output_type": "execute_result"
    }
   ],
   "source": [
    "x_train_wo_evi[0, np.r_[0:27, 30:48]].reshape(15,-1) # no water vapor"
   ]
  },
  {
   "cell_type": "code",
   "execution_count": 14,
   "metadata": {},
   "outputs": [
    {
     "name": "stdout",
     "output_type": "stream",
     "text": [
      "\n",
      "    Test RMSEs: [64.55565650881898, 64.49948677154148, 64.61952916499101]\n",
      "    Average Test RMSE: 64.5582\n",
      "    Standard Deviation of Test RMSE: 0.0490\n",
      "    Test R^2: [0.01900565727373804, 0.020712036709099158, 0.01706346612762366]\n",
      "    average R^2: 0.0189\n",
      "    \n"
     ]
    }
   ],
   "source": [
    "# 11. No water vapor\n",
    "try_bands(x_train_wo_evi[:, np.r_[0:27, 30:48]], x_test_wo_evi[:, np.r_[0:27, 30:48]])"
   ]
  },
  {
   "cell_type": "code",
   "execution_count": 15,
   "metadata": {},
   "outputs": [
    {
     "data": {
      "text/plain": [
       "array([[195.,  24.,   6.],\n",
       "       [ 83., 120.,  22.],\n",
       "       [ 24.,  98., 103.],\n",
       "       [169.,  38.,  18.],\n",
       "       [ 28.,  99.,  98.],\n",
       "       [ 17.,  48., 160.],\n",
       "       [ 16.,  42., 167.],\n",
       "       [ 19.,  71., 135.],\n",
       "       [ 17.,  34., 174.],\n",
       "       [ 60.,  85.,  80.],\n",
       "       [157.,  45.,  23.],\n",
       "       [221.,   0.,   4.],\n",
       "       [  0., 225.,   0.],\n",
       "       [ 75.,  75.,  75.],\n",
       "       [ 75.,  75.,  75.]])"
      ]
     },
     "execution_count": 15,
     "metadata": {},
     "output_type": "execute_result"
    }
   ],
   "source": [
    "x_train_wo_evi[0, np.r_[0:30, 33:48]].reshape(15,-1) # no SWIR1"
   ]
  },
  {
   "cell_type": "code",
   "execution_count": 16,
   "metadata": {},
   "outputs": [
    {
     "name": "stdout",
     "output_type": "stream",
     "text": [
      "\n",
      "    Test RMSEs: [64.72974042566605, 64.49449193328205, 64.5942584938026]\n",
      "    Average Test RMSE: 64.6062\n",
      "    Standard Deviation of Test RMSE: 0.0964\n",
      "    Test R^2: [0.013707729644558131, 0.020863702895499214, 0.017832107103484596]\n",
      "    average R^2: 0.0175\n",
      "    \n"
     ]
    }
   ],
   "source": [
    "# 12. no SWIR1\n",
    "try_bands(x_train_wo_evi[:, np.r_[0:30, 33:48]], x_test_wo_evi[:, np.r_[0:30, 33:48]])"
   ]
  },
  {
   "cell_type": "code",
   "execution_count": 17,
   "metadata": {},
   "outputs": [
    {
     "data": {
      "text/plain": [
       "array([[195.,  24.,   6.],\n",
       "       [ 83., 120.,  22.],\n",
       "       [ 24.,  98., 103.],\n",
       "       [169.,  38.,  18.],\n",
       "       [ 28.,  99.,  98.],\n",
       "       [ 17.,  48., 160.],\n",
       "       [ 16.,  42., 167.],\n",
       "       [ 19.,  71., 135.],\n",
       "       [ 17.,  34., 174.],\n",
       "       [ 60.,  85.,  80.],\n",
       "       [ 17., 173.,  35.],\n",
       "       [221.,   0.,   4.],\n",
       "       [  0., 225.,   0.],\n",
       "       [ 75.,  75.,  75.],\n",
       "       [ 75.,  75.,  75.]])"
      ]
     },
     "execution_count": 17,
     "metadata": {},
     "output_type": "execute_result"
    }
   ],
   "source": [
    "x_train_wo_evi[0, np.r_[0:33, 36:48]].reshape(15,-1) # no SWIR2"
   ]
  },
  {
   "cell_type": "code",
   "execution_count": 18,
   "metadata": {},
   "outputs": [
    {
     "name": "stdout",
     "output_type": "stream",
     "text": [
      "\n",
      "    Test RMSEs: [64.57172008519541, 64.5321485844517, 64.68434294644806]\n",
      "    Average Test RMSE: 64.5961\n",
      "    Standard Deviation of Test RMSE: 0.0645\n",
      "    Test R^2: [0.018517389041607046, 0.019719984823218795, 0.01509069460827428]\n",
      "    average R^2: 0.0178\n",
      "    \n"
     ]
    }
   ],
   "source": [
    "# 13. no SWIR2\n",
    "try_bands(x_train_wo_evi[:, np.r_[0:33, 36:48]], x_test_wo_evi[:, np.r_[0:33, 36:48]])"
   ]
  },
  {
   "cell_type": "markdown",
   "metadata": {},
   "source": [
    "### IV. Environmental factors\n"
   ]
  },
  {
   "cell_type": "code",
   "execution_count": 19,
   "metadata": {},
   "outputs": [
    {
     "data": {
      "text/plain": [
       "array([[195.,  24.,   6.],\n",
       "       [ 83., 120.,  22.],\n",
       "       [ 24.,  98., 103.],\n",
       "       [169.,  38.,  18.],\n",
       "       [ 28.,  99.,  98.],\n",
       "       [ 17.,  48., 160.],\n",
       "       [ 16.,  42., 167.],\n",
       "       [ 19.,  71., 135.],\n",
       "       [ 17.,  34., 174.],\n",
       "       [ 60.,  85.,  80.],\n",
       "       [ 17., 173.,  35.],\n",
       "       [157.,  45.,  23.],\n",
       "       [  0., 225.,   0.],\n",
       "       [ 75.,  75.,  75.],\n",
       "       [ 75.,  75.,  75.]])"
      ]
     },
     "execution_count": 19,
     "metadata": {},
     "output_type": "execute_result"
    }
   ],
   "source": [
    "x_train_wo_evi[0, np.r_[0:36, 39:48]].reshape(15,-1) # no cloud"
   ]
  },
  {
   "cell_type": "code",
   "execution_count": 20,
   "metadata": {},
   "outputs": [
    {
     "name": "stdout",
     "output_type": "stream",
     "text": [
      "\n",
      "    Test RMSEs: [64.74596678266727, 64.62551993711998, 64.59454056669918]\n",
      "    Average Test RMSE: 64.6553\n",
      "    Standard Deviation of Test RMSE: 0.0653\n",
      "    Test R^2: [0.013213183048138788, 0.016881204764017887, 0.01782352914148433]\n",
      "    average R^2: 0.0160\n",
      "    \n"
     ]
    }
   ],
   "source": [
    "# 1. no Cloud\n",
    "try_bands(x_train_wo_evi[:, np.r_[0:36, 39:48]], x_test_wo_evi[:, np.r_[0:36, 39:48]])"
   ]
  },
  {
   "cell_type": "code",
   "execution_count": 21,
   "metadata": {},
   "outputs": [
    {
     "data": {
      "text/plain": [
       "array([[195.,  24.,   6.],\n",
       "       [ 83., 120.,  22.],\n",
       "       [ 24.,  98., 103.],\n",
       "       [169.,  38.,  18.],\n",
       "       [ 28.,  99.,  98.],\n",
       "       [ 17.,  48., 160.],\n",
       "       [ 16.,  42., 167.],\n",
       "       [ 19.,  71., 135.],\n",
       "       [ 17.,  34., 174.],\n",
       "       [ 60.,  85.,  80.],\n",
       "       [ 17., 173.,  35.],\n",
       "       [157.,  45.,  23.],\n",
       "       [221.,   0.,   4.],\n",
       "       [  0., 225.,   0.],\n",
       "       [ 75.,  75.,  75.]])"
      ]
     },
     "execution_count": 21,
     "metadata": {},
     "output_type": "execute_result"
    }
   ],
   "source": [
    "x_train_wo_evi[0, np.r_[0:42, 45:48]].reshape(15,-1) # no latitude"
   ]
  },
  {
   "cell_type": "code",
   "execution_count": 22,
   "metadata": {},
   "outputs": [
    {
     "name": "stdout",
     "output_type": "stream",
     "text": [
      "\n",
      "    Test RMSEs: [64.5625280600838, 64.76977262303475, 64.62389845128197]\n",
      "    Average Test RMSE: 64.6521\n",
      "    Standard Deviation of Test RMSE: 0.0869\n",
      "    Test R^2: [0.018796804570581194, 0.012487404771741262, 0.01693053800594979]\n",
      "    average R^2: 0.0161\n",
      "    \n"
     ]
    }
   ],
   "source": [
    "# 2. no Latitude\n",
    "try_bands(x_train_wo_evi[:, np.r_[0:42, 45:48]],  x_test_wo_evi[:, np.r_[0:42, 45:48]])"
   ]
  },
  {
   "cell_type": "code",
   "execution_count": 23,
   "metadata": {},
   "outputs": [
    {
     "data": {
      "text/plain": [
       "array([[195.,  24.,   6.],\n",
       "       [ 83., 120.,  22.],\n",
       "       [ 24.,  98., 103.],\n",
       "       [169.,  38.,  18.],\n",
       "       [ 28.,  99.,  98.],\n",
       "       [ 17.,  48., 160.],\n",
       "       [ 16.,  42., 167.],\n",
       "       [ 19.,  71., 135.],\n",
       "       [ 17.,  34., 174.],\n",
       "       [ 60.,  85.,  80.],\n",
       "       [ 17., 173.,  35.],\n",
       "       [157.,  45.,  23.],\n",
       "       [221.,   0.,   4.],\n",
       "       [  0., 225.,   0.],\n",
       "       [ 75.,  75.,  75.]])"
      ]
     },
     "execution_count": 23,
     "metadata": {},
     "output_type": "execute_result"
    }
   ],
   "source": [
    "x_train_wo_evi[0, :45].reshape(15,-1) # no Longitude"
   ]
  },
  {
   "cell_type": "code",
   "execution_count": 24,
   "metadata": {},
   "outputs": [
    {
     "name": "stdout",
     "output_type": "stream",
     "text": [
      "\n",
      "    Test RMSEs: [64.739677091599, 64.64851610957834, 64.50674608525955]\n",
      "    Average Test RMSE: 64.6316\n",
      "    Standard Deviation of Test RMSE: 0.0958\n",
      "    Test R^2: [0.013404894843347948, 0.01618141954715535, 0.02049158972718823]\n",
      "    average R^2: 0.0167\n",
      "    \n"
     ]
    }
   ],
   "source": [
    "# 3. no Longitude\n",
    "try_bands(x_train_wo_evi[:, :45], x_test_wo_evi[:, :45])"
   ]
  }
 ],
 "metadata": {
  "kernelspec": {
   "display_name": "Python 3",
   "language": "python",
   "name": "python3"
  },
  "language_info": {
   "codemirror_mode": {
    "name": "ipython",
    "version": 3
   },
   "file_extension": ".py",
   "mimetype": "text/x-python",
   "name": "python",
   "nbconvert_exporter": "python",
   "pygments_lexer": "ipython3",
   "version": "3.10.4"
  },
  "orig_nbformat": 4
 },
 "nbformat": 4,
 "nbformat_minor": 2
}
