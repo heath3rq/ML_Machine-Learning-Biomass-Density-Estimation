{
 "cells": [
  {
   "attachments": {},
   "cell_type": "markdown",
   "metadata": {},
   "source": [
    "# Pre Processing Image Data for the Africa Biomass Challenge"
   ]
  },
  {
   "cell_type": "code",
   "execution_count": 1,
   "metadata": {},
   "outputs": [],
   "source": [
    "import h5py\n",
    "import matplotlib.pyplot as plt\n",
    "import pandas as pd\n",
    "import numpy as np\n",
    "import warnings\n",
    "import urllib.request\n",
    "warnings.filterwarnings('ignore')"
   ]
  },
  {
   "cell_type": "code",
   "execution_count": 6,
   "metadata": {},
   "outputs": [
    {
     "data": {
      "text/plain": [
       "('trainset.h5', <http.client.HTTPMessage at 0x14d237340>)"
      ]
     },
     "execution_count": 6,
     "metadata": {},
     "output_type": "execute_result"
    }
   ],
   "source": [
    "\"\"\"download images\"\"\"\n",
    "\n",
    "\n",
    "url = \"https://share.phys.ethz.ch/~pf/albecker/abc/09072022_1154_train.h5\"\n",
    "filename = \"trainset.h5\"\n",
    "urllib.request.urlretrieve(url, filename)\n"
   ]
  },
  {
   "cell_type": "code",
   "execution_count": 38,
   "metadata": {},
   "outputs": [
    {
     "name": "stdout",
     "output_type": "stream",
     "text": [
      "cols in dataset: <KeysViewHDF5 ['agbd', 'cloud', 'images', 'lat', 'lon', 'scl']>\n"
     ]
    }
   ],
   "source": [
    "\"\"\"module to load trainset\"\"\"\n",
    "#!wget -q  https://share.phys.ethz.ch/~pf/albecker/abc/09072022_1154_train.h5\n",
    "trainset = h5py.File(\"trainset.h5\", \"r\")\n",
    "\n",
    "#columns\n",
    "data_cols = trainset.keys()\n",
    "print(f\"cols in dataset: {data_cols}\")\n"
   ]
  },
  {
   "attachments": {},
   "cell_type": "markdown",
   "metadata": {},
   "source": [
    "### Check completeness of values"
   ]
  },
  {
   "cell_type": "code",
   "execution_count": 44,
   "metadata": {},
   "outputs": [
    {
     "name": "stdout",
     "output_type": "stream",
     "text": [
      "agbd : 25036 values, 0 Nans\n",
      "cloud : 25036 values, 0 Nans\n",
      "images : 25036 values, 0 Nans\n",
      "lat : 25036 values, 0 Nans\n",
      "lon : 25036 values, 0 Nans\n",
      "scl : 25036 values, 0 Nans\n"
     ]
    }
   ],
   "source": [
    "for col in data_cols:\n",
    "    tmp = np.array(trainset[col])\n",
    "    #Check for Nans\n",
    "    mask = np.isnan(tmp) | np.equal(tmp, None)\n",
    "    num_na = np.count_nonzero(mask)\n",
    "    print(f\"{col} : {len(tmp)} values, {num_na} Nans\")"
   ]
  },
  {
   "attachments": {},
   "cell_type": "markdown",
   "metadata": {},
   "source": [
    ">✅ complete data\n",
    "\n",
    "> agbd stands for Above Ground Biomass Density"
   ]
  },
  {
   "attachments": {},
   "cell_type": "markdown",
   "metadata": {},
   "source": [
    "## Image preprocessing"
   ]
  },
  {
   "cell_type": "code",
   "execution_count": null,
   "metadata": {},
   "outputs": [],
   "source": [
    "import numpy as np\n",
    "from skimage import transform\n",
    "from sklearn.preprocessing import StandardScaler\n",
    "\n",
    "#shape (25036, 15, 15, 12)\n",
    "images_data = np.array(trainset[\"images\"])\n",
    "\n",
    "# Resize the images to 224 by 224 \n",
    "image_data_resized = np.zeros((len(images_data), 224, 224, 12))\n",
    "for i in range(len(images_data)):\n",
    "    for j in range(12):\n",
    "        image_data_resized[i, :, :, j] = transform.resize(images_data[i, :, :, j], (224, 224))"
   ]
  },
  {
   "cell_type": "code",
   "execution_count": null,
   "metadata": {},
   "outputs": [],
   "source": [
    "# Normalize the pixel values of each band \n",
    "scaler = StandardScaler()\n",
    "image_data_normalized = scaler.fit_transform(image_data_resized.reshape(-1, 12))\n",
    "image_data_normalized = image_data_normalized.reshape((len(images_data), 224, 224, 12))"
   ]
  }
 ],
 "metadata": {
  "kernelspec": {
   "display_name": "base",
   "language": "python",
   "name": "python3"
  },
  "language_info": {
   "codemirror_mode": {
    "name": "ipython",
    "version": 3
   },
   "file_extension": ".py",
   "mimetype": "text/x-python",
   "name": "python",
   "nbconvert_exporter": "python",
   "pygments_lexer": "ipython3",
   "version": "3.10.6"
  },
  "orig_nbformat": 4,
  "vscode": {
   "interpreter": {
    "hash": "4de7276074beb09e94c04d5e134c141d0f336e3226759f4865dc0d0ce3d2e27e"
   }
  }
 },
 "nbformat": 4,
 "nbformat_minor": 2
}
